{
 "cells": [
  {
   "cell_type": "markdown",
   "metadata": {},
   "source": [
    "# Multiple Qubits\n",
    "\n",
    "A single qubit is represented by $ |\\psi\\rangle = \\begin{bmatrix}\\alpha \\\\ \\beta\\end{bmatrix}$, where $\\alpha, \\beta \\in \\mathbb{C}$ and $|\\alpha|^{2} + |\\beta|^{2} = 1$.\n",
    "\n",
    "A system of multiple qubits is represented by more states. More specifcially, a system of n qubits is represented by $2^{n}$ states i.e. a column matrix of $2^{n}$ entries.\n",
    "\n",
    "For example, for $n = 2$, the qubit can be seen as the superposition of $|00\\rangle$, $|01\\rangle$, $|10\\rangle$, and $|11\\rangle$:\n",
    "\n",
    "$$\n",
    "|\\psi\\rangle = \\alpha|00\\rangle + \\beta|01\\rangle + \\gamma|10\\rangle + \\delta|11\\rangle\n",
    "$$\n",
    "\n",
    "For some systems, we may describe it using the tensor product of a $ |\\psi\\rangle = \\begin{bmatrix}\\alpha \\\\ \\beta\\end{bmatrix}$ and another qubit $|\\phi\\rangle$:\n",
    "\n",
    "$$\n",
    "|\\psi\\rangle \\otimes |\\phi\\rangle = \\begin{bmatrix}\\alpha|\\phi\\rangle \\\\ \\beta|\\phi\\rangle\\end{bmatrix}\n",
    "$$\n",
    "\n",
    "Sometimes, $|\\psi\\rangle \\otimes |\\phi\\rangle $ is written as $|\\psi\\rangle|\\phi\\rangle $. Also, $|000\\rangle = |0\\rangle|0\\rangle|0\\rangle = |0\\rangle \\otimes |0\\rangle \\otimes |0\\rangle$ thus the base for system of many qubits is defined as the tensor product of single qubits.\n",
    "\n",
    "Notice that not all systems of n qubits can be described by tensor products: those that cannot are called entangled.\n",
    "\n",
    "# Multiple Qubit Gates\n",
    "\n",
    "Multiple qubit gates are gates that act on multiple qubit systems. They can interact with one or multiple qubits of the system. A gate that interacts with n qubits will have dimensions $2^{n} \\times 2^{n}$. Multiple qubit gates are still unitary, that is their still respect:\n",
    "\n",
    "$$\n",
    "UU^{\\dagger} = I\n",
    "$$"
   ]
  },
  {
   "cell_type": "code",
   "execution_count": 45,
   "metadata": {},
   "outputs": [],
   "source": [
    "%matplotlib inline\n",
    "from qiskit import *\n",
    "from qiskit.visualization import plot_histogram"
   ]
  },
  {
   "cell_type": "markdown",
   "metadata": {},
   "source": [
    "## Tensor Product\n",
    "\n",
    "When applying a gate for a single qubit $G$ to a system of multiple qubits, it can be seen as applying the gate of multiple qubits $G \\otimes I$.\n",
    "\n",
    "For example, the following circuit can be described by $U = X \\otimes Z$."
   ]
  },
  {
   "cell_type": "code",
   "execution_count": 46,
   "metadata": {},
   "outputs": [
    {
     "data": {
      "image/png": "[encoded data removed]",
      "text/plain": [
       "<Figure size 216.72x144.48 with 1 Axes>"
      ]
     },
     "execution_count": 46,
     "metadata": {},
     "output_type": "execute_result"
    }
   ],
   "source": [
    "circuit = QuantumCircuit(2)\n",
    "circuit.x(0)\n",
    "circuit.z(1)\n",
    "circuit.draw(output=\"mpl\")"
   ]
  },
  {
   "cell_type": "code",
   "execution_count": 47,
   "metadata": {},
   "outputs": [
    {
     "name": "stdout",
     "output_type": "stream",
     "text": [
      "[[ 0.+0.j  1.+0.j  0.+0.j  0.+0.j]\n",
      " [ 1.+0.j  0.+0.j  0.+0.j  0.+0.j]\n",
      " [ 0.+0.j  0.+0.j  0.+0.j -1.+0.j]\n",
      " [ 0.+0.j  0.+0.j -1.+0.j  0.+0.j]]\n"
     ]
    }
   ],
   "source": [
    "unitary_simulator = Aer.get_backend(\"unitary_simulator\")\n",
    "unitary = execute(circuit, backend=unitary_simulator).result().get_unitary()\n",
    "print(unitary)"
   ]
  },
  {
   "cell_type": "markdown",
   "metadata": {},
   "source": [
    "## Controlled Not\n",
    "\n",
    "The Controlled NOT gate is a gate that applies the X gate conditionally to a qubit based on a control qubit.\n",
    "\n",
    "If the control qubit is $|0\\rangle$, then nothing happens to the target qubit. But if it is $|1\\rangle$ instead, then the Pauli-X gate is applied to the control qubit.\n",
    "\n",
    "Notice that the CNOT gate matrix cannot be expressed as the tensor product of $2\\times2$ matrices. Thus, it can be used to generate entangled states like the one we build below. The circuit creates:\n",
    "\n",
    "$$\n",
    "|\\Psi^{+}\\rangle = \\frac{|01\\rangle + |10\\rangle}{\\sqrt 2} \n",
    "$$"
   ]
  },
  {
   "cell_type": "code",
   "execution_count": 48,
   "metadata": {},
   "outputs": [
    {
     "data": {
      "image/png": "[encoded data removed]",
      "text/plain": [
       "<Figure size 276.92x144.48 with 1 Axes>"
      ]
     },
     "execution_count": 48,
     "metadata": {},
     "output_type": "execute_result"
    }
   ],
   "source": [
    "circuit = QuantumCircuit(2)\n",
    "circuit.h(0)\n",
    "circuit.x(1)\n",
    "circuit.cx(0, 1)\n",
    "circuit.draw(output=\"mpl\")"
   ]
  },
  {
   "cell_type": "code",
   "execution_count": 49,
   "metadata": {},
   "outputs": [
    {
     "name": "stdout",
     "output_type": "stream",
     "text": [
      "[0.        +0.j 0.70710678+0.j 0.70710678+0.j 0.        +0.j]\n"
     ]
    }
   ],
   "source": [
    "state_simulator = Aer.get_backend(\"statevector_simulator\")\n",
    "state_vector = execute(circuit, backend=state_simulator).result().get_statevector()\n",
    "print(state_vector)"
   ]
  },
  {
   "cell_type": "markdown",
   "metadata": {},
   "source": [
    "The same way we can apply $X$ conditionally, we can also apply any gate conditionally. The next circuit applies the $Z$ gate conditionally."
   ]
  },
  {
   "cell_type": "code",
   "execution_count": 50,
   "metadata": {},
   "outputs": [
    {
     "data": {
      "image/png": "[encoded data removed]",
      "text/plain": [
       "<Figure size 276.92x144.48 with 1 Axes>"
      ]
     },
     "execution_count": 50,
     "metadata": {},
     "output_type": "execute_result"
    }
   ],
   "source": [
    "circuit = QuantumCircuit(2)\n",
    "circuit.h(0)\n",
    "circuit.h(1)\n",
    "circuit.cz(0, 1)\n",
    "circuit.draw(output=\"mpl\")"
   ]
  },
  {
   "cell_type": "code",
   "execution_count": 51,
   "metadata": {},
   "outputs": [
    {
     "name": "stdout",
     "output_type": "stream",
     "text": [
      "[ 0.5+0.j  0.5+0.j  0.5+0.j -0.5+0.j]\n"
     ]
    }
   ],
   "source": [
    "state_vector = execute(circuit, backend=state_simulator).result().get_statevector()\n",
    "print(state_vector)"
   ]
  },
  {
   "cell_type": "markdown",
   "metadata": {},
   "source": [
    "## Toffoli Gate\n",
    "\n",
    "The Toffoli gate is used to calculate the logical AND of classical computers on quantum circuits.\n",
    "\n",
    "Because the gate would not be unitary with two qubits, a third working qubit is needed. The next circuit exemplifies that idea:"
   ]
  },
  {
   "cell_type": "code",
   "execution_count": 52,
   "metadata": {},
   "outputs": [
    {
     "data": {
      "image/png": "[encoded data removed]",
      "text/plain": [
       "<Figure size 457.52x264.88 with 1 Axes>"
      ]
     },
     "execution_count": 52,
     "metadata": {},
     "output_type": "execute_result"
    }
   ],
   "source": [
    "circuit = QuantumCircuit(3, 3)\n",
    "circuit.h([0, 1])\n",
    "circuit.ccx(0, 1, 2)\n",
    "circuit.measure([0, 1, 2], [0, 1, 2])\n",
    "circuit.draw(output=\"mpl\")"
   ]
  },
  {
   "cell_type": "code",
   "execution_count": 53,
   "metadata": {},
   "outputs": [
    {
     "data": {
      "image/png": "[encoded data removed]",
      "text/plain": [
       "<Figure size 504x360 with 1 Axes>"
      ]
     },
     "execution_count": 53,
     "metadata": {},
     "output_type": "execute_result"
    }
   ],
   "source": [
    "simulator = Aer.get_backend(\"qasm_simulator\")\n",
    "counts = execute(circuit, backend=simulator, shots=2**16).result().get_counts()\n",
    "plot_histogram(counts)"
   ]
  },
  {
   "cell_type": "markdown",
   "metadata": {},
   "source": [
    "## Reversible Computing\n",
    "\n",
    "The inverse of the Toffoli gate is the Toffoli gate, and the inverse of the CNOT gate is the CNOT gate.\n",
    "\n",
    "Thus, if applied twice to the same target qubit, they do no change. The circuit belows exploits that ideas, in which the Toffoli cancels with the Toffoli, the CNOT cancels with the CNOT and the $X$ cancels with the $X$. Hence, we expect the measurements to be always 0 for all qubits."
   ]
  },
  {
   "cell_type": "code",
   "execution_count": 54,
   "metadata": {},
   "outputs": [
    {
     "data": {
      "image/png": "[encoded data removed]",
      "text/plain": [
       "<Figure size 577.92x264.88 with 1 Axes>"
      ]
     },
     "execution_count": 54,
     "metadata": {},
     "output_type": "execute_result"
    }
   ],
   "source": [
    "circuit = QuantumCircuit(3, 3)\n",
    "circuit.x(0)\n",
    "circuit.cx(0, 1)\n",
    "circuit.ccx(0, 1, 2)\n",
    "circuit.ccx(0, 1, 2)\n",
    "circuit.cx(0, 1)\n",
    "circuit.x(0)\n",
    "circuit.measure([0, 1, 2], [0, 1, 2])\n",
    "circuit.draw(output=\"mpl\")"
   ]
  },
  {
   "cell_type": "code",
   "execution_count": 55,
   "metadata": {},
   "outputs": [
    {
     "data": {
      "image/png": "[encoded data removed]",
      "text/plain": [
       "<Figure size 504x360 with 1 Axes>"
      ]
     },
     "execution_count": 55,
     "metadata": {},
     "output_type": "execute_result"
    }
   ],
   "source": [
    "counts = execute(circuit, backend=simulator, shots=2**16).result().get_counts()\n",
    "plot_histogram(counts)"
   ]
  }
 ],
 "metadata": {
  "kernelspec": {
   "display_name": "Python 3",
   "language": "python",
   "name": "python3"
  },
  "language_info": {
   "codemirror_mode": {
    "name": "ipython",
    "version": 3
   },
   "file_extension": ".py",
   "mimetype": "text/x-python",
   "name": "python",
   "nbconvert_exporter": "python",
   "pygments_lexer": "ipython3",
   "version": "3.7.5"
  }
 },
 "nbformat": 4,
 "nbformat_minor": 2
}
