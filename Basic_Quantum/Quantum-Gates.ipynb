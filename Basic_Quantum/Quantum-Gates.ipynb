{
 "cells": [
  {
   "cell_type": "markdown",
   "metadata": {},
   "source": [
    "# Quantum Gates\n",
    "\n",
    "Quantum gates are the building blocks of quantum circuits. A quantum gate $U$ is an unitary that takes $|\\psi\\rangle$ to another valid qubit $|\\phi\\rangle$. It is important to remember that:\n",
    "\n",
    "$$\n",
    "UU^{\\dagger} = I\n",
    "$$\n",
    "\n",
    "Thus, the gate $U^{\\dagger}$ undoes the transformation of $U$. For the Pauli X, Y, and Z gates as well as the Hadamard gate, $U = U^{\\dagger}$.\n",
    "\n",
    "In Python, the gates are a matrix (list of lists) of complex numbers.\n",
    "\n",
    "We may extract the unitary matrix from a circuit using the **unitary_simulator** in _Qiskit_"
   ]
  },
  {
   "cell_type": "code",
   "execution_count": 59,
   "metadata": {},
   "outputs": [],
   "source": [
    "%matplotlib inline\n",
    "from qiskit import *"
   ]
  },
  {
   "cell_type": "code",
   "execution_count": 82,
   "metadata": {},
   "outputs": [],
   "source": [
    "# The following code is for nicer display of the matrices\n",
    "from IPython.display import display, Markdown\n",
    "\n",
    "def format_float(x):\n",
    "    if x % 1 == 0:\n",
    "        return int(x)\n",
    "    else:\n",
    "        return x\n",
    "\n",
    "def format_imaginary(z):\n",
    "    if abs(z.imag) < 1e-15:\n",
    "        return \"{}\".format(format_float(z.real))\n",
    "    elif abs(z.real) < 1e-15:\n",
    "        if z.imag == 1:\n",
    "            return \"i\"\n",
    "        elif z.imag == -1:\n",
    "            return \"-i\"\n",
    "        return \"{}i\".format(format_float(z.imag))\n",
    "    if z.imag > 0:\n",
    "        return \"{} + {}i\".format(z.real, abs(z.imag))\n",
    "    else:\n",
    "        return \"{} - {}i\".format(z.real, abs(z.imag))\n",
    "\n",
    "def display_matrix(gate, gate_name=\"U\"):\n",
    "    a00 = format_imaginary(gate[0][0])\n",
    "    a01 = format_imaginary(gate[0][1])\n",
    "    a10 = format_imaginary(gate[1][0])\n",
    "    a11 = format_imaginary(gate[1][1])\n",
    "    ans = r\"${} = \\begin{{bmatrix}} {} & {} \\\\ {} & {}\\end{{bmatrix}}$\".format(gate_name,a00, a01, a10, a11)\n",
    "    return Markdown(ans)"
   ]
  },
  {
   "cell_type": "markdown",
   "metadata": {},
   "source": [
    "The Qiskit simulators are available in the _Aer_ module. For this notebook, we will explore mostly the **unitary_simulator** because we are interested in the unitary matrices of the gates."
   ]
  },
  {
   "cell_type": "code",
   "execution_count": 61,
   "metadata": {},
   "outputs": [],
   "source": [
    "simulator = Aer.get_backend(\"unitary_simulator\")"
   ]
  },
  {
   "cell_type": "markdown",
   "metadata": {},
   "source": [
    "The most simple circuit is the quantum wire: a system with no gates.\n",
    "We can verify that it is represented by the identity matrix, $I = \\begin{bmatrix}1 & 0 \\\\ 0 & 1\\end{bmatrix}$."
   ]
  },
  {
   "cell_type": "code",
   "execution_count": 62,
   "metadata": {},
   "outputs": [
    {
     "data": {
      "image/png": "[encoded data removed]",
      "text/plain": [
       "<Figure size 113.176x84.28 with 1 Axes>"
      ]
     },
     "execution_count": 62,
     "metadata": {},
     "output_type": "execute_result"
    }
   ],
   "source": [
    "circuit = QuantumCircuit(1)\n",
    "circuit.draw(output=\"mpl\")"
   ]
  },
  {
   "cell_type": "code",
   "execution_count": 63,
   "metadata": {},
   "outputs": [
    {
     "name": "stdout",
     "output_type": "stream",
     "text": [
      "[[1.+0.j 0.+0.j]\n",
      " [0.+0.j 1.+0.j]]\n"
     ]
    }
   ],
   "source": [
    "job = execute(circuit, backend=simulator)\n",
    "result = job.result()\n",
    "unitary = result.get_unitary()\n",
    "print(unitary)"
   ]
  },
  {
   "cell_type": "markdown",
   "metadata": {},
   "source": [
    "The first gate we will discuss is the NOT gate, also known as Pauli X gate. It takes $|0\\rangle$ to $|1\\rangle$ and vice versa. A simple circuit consisting of only the $X$ gate looks like:"
   ]
  },
  {
   "cell_type": "code",
   "execution_count": 64,
   "metadata": {},
   "outputs": [
    {
     "data": {
      "image/png": "[encoded data removed]",
      "text/plain": [
       "<Figure size 173.376x84.28 with 1 Axes>"
      ]
     },
     "execution_count": 64,
     "metadata": {},
     "output_type": "execute_result"
    }
   ],
   "source": [
    "circuit = QuantumCircuit(1)\n",
    "circuit.x(0)\n",
    "circuit.draw(output=\"mpl\")"
   ]
  },
  {
   "cell_type": "markdown",
   "metadata": {},
   "source": [
    "We may also verify that $X = \\begin{bmatrix}0 & 1 \\\\ 1 & 0\\end{bmatrix}$ using Qiskit."
   ]
  },
  {
   "cell_type": "code",
   "execution_count": 65,
   "metadata": {},
   "outputs": [
    {
     "data": {
      "text/markdown": [
       "$X = \\begin{bmatrix} 0 & 1 \\\\ 1 & 0\\end{bmatrix}$"
      ],
      "text/plain": [
       "<IPython.core.display.Markdown object>"
      ]
     },
     "metadata": {},
     "output_type": "display_data"
    }
   ],
   "source": [
    "unitary = execute(circuit, backend=simulator).result().get_unitary()\n",
    "display(\n",
    "    display_matrix(unitary, \"X\")\n",
    ")"
   ]
  },
  {
   "cell_type": "markdown",
   "metadata": {},
   "source": [
    "We may apply many gates to a circuit. In the circuit below, we apply $X$ followed by $H$. Notice that this is equivalent to applying a single gate $U = HX$ due to matrix multiplication (multiplication of unitary matrices yields a unitary matrix)."
   ]
  },
  {
   "cell_type": "code",
   "execution_count": 66,
   "metadata": {},
   "outputs": [
    {
     "data": {
      "image/png": "[encoded data removed]",
      "text/plain": [
       "<Figure size 233.576x84.28 with 1 Axes>"
      ]
     },
     "execution_count": 66,
     "metadata": {},
     "output_type": "execute_result"
    }
   ],
   "source": [
    "circuit = QuantumCircuit(1)\n",
    "circuit.x(0)\n",
    "circuit.h(0)\n",
    "circuit.draw(output=\"mpl\")"
   ]
  },
  {
   "cell_type": "code",
   "execution_count": 67,
   "metadata": {},
   "outputs": [
    {
     "data": {
      "text/markdown": [
       "$U = \\begin{bmatrix} 0.7071067811865475 & 0.7071067811865476 \\\\ -0.7071067811865476 & 0.7071067811865475\\end{bmatrix}$"
      ],
      "text/plain": [
       "<IPython.core.display.Markdown object>"
      ]
     },
     "metadata": {},
     "output_type": "display_data"
    }
   ],
   "source": [
    "unitary = execute(circuit, backend=simulator).result().get_unitary()\n",
    "display(\n",
    "    display_matrix(unitary)\n",
    ")"
   ]
  },
  {
   "cell_type": "markdown",
   "metadata": {},
   "source": [
    "On a relevant note, different gates may lead to the same composed matrix $U$! Here, we verify that $HX$ = $ZH$."
   ]
  },
  {
   "cell_type": "code",
   "execution_count": 68,
   "metadata": {},
   "outputs": [
    {
     "data": {
      "image/png": "[encoded data removed]",
      "text/plain": [
       "<Figure size 233.576x84.28 with 1 Axes>"
      ]
     },
     "execution_count": 68,
     "metadata": {},
     "output_type": "execute_result"
    }
   ],
   "source": [
    "circuit = QuantumCircuit(1)\n",
    "circuit.h(0)\n",
    "circuit.z(0)\n",
    "circuit.draw(output=\"mpl\")"
   ]
  },
  {
   "cell_type": "code",
   "execution_count": 69,
   "metadata": {},
   "outputs": [
    {
     "data": {
      "text/markdown": [
       "$U = \\begin{bmatrix} 0.7071067811865476 & 0.7071067811865475 \\\\ -0.7071067811865475 & 0.7071067811865476\\end{bmatrix}$"
      ],
      "text/plain": [
       "<IPython.core.display.Markdown object>"
      ]
     },
     "metadata": {},
     "output_type": "display_data"
    }
   ],
   "source": [
    "unitary = execute(circuit, backend=simulator).result().get_unitary()\n",
    "display(\n",
    "    display_matrix(unitary)\n",
    ")"
   ]
  },
  {
   "cell_type": "markdown",
   "metadata": {},
   "source": [
    "And gate order matters! Matrix multiplication is not commutative in general. $HZ$ is not the same as $ZH$."
   ]
  },
  {
   "cell_type": "code",
   "execution_count": 70,
   "metadata": {},
   "outputs": [
    {
     "data": {
      "image/png": "[encoded data removed]",
      "text/plain": [
       "<Figure size 233.576x84.28 with 1 Axes>"
      ]
     },
     "execution_count": 70,
     "metadata": {},
     "output_type": "execute_result"
    }
   ],
   "source": [
    "circuit = QuantumCircuit(1)\n",
    "circuit.z(0)\n",
    "circuit.h(0)\n",
    "circuit.draw(output=\"mpl\")"
   ]
  },
  {
   "cell_type": "code",
   "execution_count": 71,
   "metadata": {},
   "outputs": [
    {
     "data": {
      "text/markdown": [
       "$U = \\begin{bmatrix} 0.7071067811865476 & -0.7071067811865475 \\\\ 0.7071067811865475 & 0.7071067811865476\\end{bmatrix}$"
      ],
      "text/plain": [
       "<IPython.core.display.Markdown object>"
      ]
     },
     "metadata": {},
     "output_type": "display_data"
    }
   ],
   "source": [
    "unitary = execute(circuit, backend=simulator).result().get_unitary()\n",
    "display(\n",
    "    display_matrix(unitary)\n",
    ")"
   ]
  },
  {
   "cell_type": "markdown",
   "metadata": {},
   "source": [
    "It is also important to recall that the entries of the matrix may not be real numbers! For example, consider the Pauli Y gate: it has entries that are pure imaginary numbers"
   ]
  },
  {
   "cell_type": "code",
   "execution_count": 72,
   "metadata": {},
   "outputs": [
    {
     "data": {
      "image/png": "[encoded data removed]",
      "text/plain": [
       "<Figure size 173.376x84.28 with 1 Axes>"
      ]
     },
     "execution_count": 72,
     "metadata": {},
     "output_type": "execute_result"
    }
   ],
   "source": [
    "circuit = QuantumCircuit(1)\n",
    "circuit.y(0)\n",
    "circuit.draw(output=\"mpl\")"
   ]
  },
  {
   "cell_type": "code",
   "execution_count": 73,
   "metadata": {},
   "outputs": [
    {
     "data": {
      "text/markdown": [
       "$Y = \\begin{bmatrix} 0 & -i \\\\ i & 0\\end{bmatrix}$"
      ],
      "text/plain": [
       "<IPython.core.display.Markdown object>"
      ]
     },
     "metadata": {},
     "output_type": "display_data"
    }
   ],
   "source": [
    "unitary = execute(circuit, backend=simulator).result().get_unitary()\n",
    "display(\n",
    "    display_matrix(unitary, \"Y\")\n",
    ")"
   ]
  },
  {
   "cell_type": "markdown",
   "metadata": {},
   "source": [
    "We can also verify that the inverse of the Pauli Y gate is itself! Because $Y = Y^{\\dagger}$, then $YY = I$.The same would apply for $X$, $Z$ and $H$."
   ]
  },
  {
   "cell_type": "code",
   "execution_count": 74,
   "metadata": {},
   "outputs": [
    {
     "data": {
      "image/png": "[encoded data removed]",
      "text/plain": [
       "<Figure size 233.576x84.28 with 1 Axes>"
      ]
     },
     "execution_count": 74,
     "metadata": {},
     "output_type": "execute_result"
    }
   ],
   "source": [
    "circuit = QuantumCircuit(1)\n",
    "circuit.y(0)\n",
    "circuit.y(0)\n",
    "circuit.draw(output=\"mpl\")"
   ]
  },
  {
   "cell_type": "code",
   "execution_count": 75,
   "metadata": {},
   "outputs": [
    {
     "data": {
      "text/markdown": [
       "$U = \\begin{bmatrix} 1 & 0 \\\\ 0 & 1\\end{bmatrix}$"
      ],
      "text/plain": [
       "<IPython.core.display.Markdown object>"
      ]
     },
     "metadata": {},
     "output_type": "display_data"
    }
   ],
   "source": [
    "unitary = execute(circuit, backend=simulator).result().get_unitary()\n",
    "display(\n",
    "    display_matrix(unitary, \"U\")\n",
    ")"
   ]
  },
  {
   "cell_type": "markdown",
   "metadata": {},
   "source": [
    "We may take that property for granted because all the matrices analysed so far respect $U = U^{\\dagger}$! But this will not always be the case. Consider the $S$ gate, which we have not discussed but is available in Qiskit. The matrix that represents the gate is:\n",
    "\n",
    "$$\n",
    "S = \\begin{bmatrix}1 & 0 \\\\ 0 & i\\end{bmatrix}\n",
    "$$"
   ]
  },
  {
   "cell_type": "code",
   "execution_count": 76,
   "metadata": {},
   "outputs": [
    {
     "data": {
      "image/png": "[encoded data removed]",
      "text/plain": [
       "<Figure size 233.576x84.28 with 1 Axes>"
      ]
     },
     "execution_count": 76,
     "metadata": {},
     "output_type": "execute_result"
    }
   ],
   "source": [
    "circuit = QuantumCircuit(1)\n",
    "circuit.s(0)\n",
    "circuit.s(0)\n",
    "circuit.draw(output=\"mpl\")"
   ]
  },
  {
   "cell_type": "code",
   "execution_count": 77,
   "metadata": {},
   "outputs": [
    {
     "data": {
      "text/markdown": [
       "$U = \\begin{bmatrix} 1 & 0 \\\\ 0 & -1\\end{bmatrix}$"
      ],
      "text/plain": [
       "<IPython.core.display.Markdown object>"
      ]
     },
     "metadata": {},
     "output_type": "display_data"
    }
   ],
   "source": [
    "unitary = execute(circuit, backend=simulator).result().get_unitary()\n",
    "display(\n",
    "    display_matrix(unitary, \"U\")\n",
    ")"
   ]
  },
  {
   "cell_type": "markdown",
   "metadata": {},
   "source": [
    "We have just verified that $SS = Z$ and not $I$! The (true) inverse of $S$, $S^{\\dagger}$, is available in Qiskit. The matrix that represents the gate is:\n",
    "$$\n",
    "S = \\begin{bmatrix}1 & 0 \\\\ 0 & -i\\end{bmatrix}\n",
    "$$"
   ]
  },
  {
   "cell_type": "code",
   "execution_count": 78,
   "metadata": {},
   "outputs": [
    {
     "data": {
      "image/png": "[encoded data removed]",
      "text/plain": [
       "<Figure size 233.576x84.28 with 1 Axes>"
      ]
     },
     "execution_count": 78,
     "metadata": {},
     "output_type": "execute_result"
    }
   ],
   "source": [
    "circuit = QuantumCircuit(1)\n",
    "circuit.s(0)\n",
    "circuit.sdg(0)  # sdg = s dagger\n",
    "circuit.draw(output=\"mpl\")"
   ]
  },
  {
   "cell_type": "code",
   "execution_count": 79,
   "metadata": {},
   "outputs": [
    {
     "data": {
      "text/markdown": [
       "$U = \\begin{bmatrix} 1 & 0 \\\\ 0 & 1\\end{bmatrix}$"
      ],
      "text/plain": [
       "<IPython.core.display.Markdown object>"
      ]
     },
     "metadata": {},
     "output_type": "display_data"
    }
   ],
   "source": [
    "unitary = execute(circuit, backend=simulator).result().get_unitary()\n",
    "display(\n",
    "    display_matrix(unitary, \"U\")\n",
    ")"
   ]
  },
  {
   "cell_type": "markdown",
   "metadata": {},
   "source": [
    "Even though $S \\neq S^{\\dagger}$, $S^{3} = S^{\\dagger}$! The same would apply to $X, Y, Z$ and $H$ because $X^{2}=Y^{2}=Z^{2}=H^{2}=I$. Hence, $H^{3} = H = H^{\\dagger}$ for example."
   ]
  },
  {
   "cell_type": "code",
   "execution_count": 80,
   "metadata": {},
   "outputs": [
    {
     "data": {
      "image/png": "[encoded data removed]",
      "text/plain": [
       "<Figure size 353.976x84.28 with 1 Axes>"
      ]
     },
     "execution_count": 80,
     "metadata": {},
     "output_type": "execute_result"
    }
   ],
   "source": [
    "circuit = QuantumCircuit(1)\n",
    "circuit.s(0)\n",
    "#circuit.sdg(0)\n",
    "circuit.s(0)\n",
    "circuit.s(0)\n",
    "circuit.s(0)\n",
    "circuit.draw(output=\"mpl\")"
   ]
  },
  {
   "cell_type": "code",
   "execution_count": 81,
   "metadata": {},
   "outputs": [
    {
     "data": {
      "text/markdown": [
       "$U = \\begin{bmatrix} 1 & 0 \\\\ 0 & 1\\end{bmatrix}$"
      ],
      "text/plain": [
       "<IPython.core.display.Markdown object>"
      ]
     },
     "metadata": {},
     "output_type": "display_data"
    }
   ],
   "source": [
    "unitary = execute(circuit, backend=simulator).result().get_unitary()\n",
    "display(\n",
    "    display_matrix(unitary, \"U\")\n",
    ")"
   ]
  }
 ],
 "metadata": {
  "kernelspec": {
   "display_name": "Python 3",
   "language": "python",
   "name": "python3"
  },
  "language_info": {
   "codemirror_mode": {
    "name": "ipython",
    "version": 3
   },
   "file_extension": ".py",
   "mimetype": "text/x-python",
   "name": "python",
   "nbconvert_exporter": "python",
   "pygments_lexer": "ipython3",
   "version": "3.7.5"
  }
 },
 "nbformat": 4,
 "nbformat_minor": 2
}
