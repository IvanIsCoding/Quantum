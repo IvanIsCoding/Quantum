{
 "cells": [
  {
   "cell_type": "markdown",
   "metadata": {},
   "source": [
    "# Quantum Notebooks\n",
    "\n",
    "Welcome to the quantum notebooks! \n",
    "\n",
    "This repository contains a collection of quantum circuits and quantum algorithms in Python using [Qiskit](https://www.qiskit.org/). Their goal is to provide a hands-on approach to quantum computing: on the Jupyter notebooks, you will find implementations of what is usually only discussed theoretically.\n",
    "\n",
    "Lastly, the codes are paired with dicussions on my [blogs about quantum computing](https://ivaniscoding.github.io/tags/quantum/). The discussions on the blog try to build an intuition behind the codes discussed here, so I invite you to check them out. \n",
    "\n",
    "## List of Codes\n",
    "\n",
    "### Basic Quantum Computing\n",
    "\n",
    "Explore the building blocks of quantum, starting with single qubit systems and going up to multiple qubit systems.\n",
    "\n",
    "* **[The Qubit](./Basic_Quantum/Qubit.ipynb)**\n",
    "* **[Quantum Gates](./Basic_Quantum/Quantum-Gates.ipynb)**\n",
    "* **[Quantum Measurements](./Basic_Quantum/Measurements.ipynb)**\n",
    "* **[Multiple Qubits](./Basic_Quantum/Multiple-Qubits.ipynb)**\n",
    "* **[Uncomputation](./Basic_Quantum/Uncomputation.ipynb)**\n",
    "\n",
    "### Quantum Communication\n",
    "\n",
    "Explore how entanglement can be used to send information. \n",
    "\n",
    "* **[Quantum Teleportation](./Quantum_Communication/Teleportation.ipynb)**\n",
    "* **[Superdense Coding](./Quantum_Communication/Superdensecoding.ipynb)**\n",
    "\n",
    "### Algorithms\n",
    "\n",
    "Explore the quantum advantage: algorithms that show how quantum computers can outperform their classical counterparts.\n",
    "\n",
    "* **[Deutsch's Algorithm](./Algorithms/Deutsch.ipynb)**\n",
    "* **[Deutsch-Jozsa's Algorithm](./Algorithms/Deutsch-Jozsa.ipynb)**\n",
    "* **[Bernstein-Vazirani's Algorithm](./Algorithms/Bernstein-Vazirani.ipynb)**\n",
    "* **[Grover's Algorithm](./Algorithms/Grover.ipynb)**"
   ]
  }
 ],
 "metadata": {
  "kernelspec": {
   "display_name": "Python 3",
   "language": "python",
   "name": "python3"
  },
  "language_info": {
   "codemirror_mode": {
    "name": "ipython",
    "version": 3
   },
   "file_extension": ".py",
   "mimetype": "text/x-python",
   "name": "python",
   "nbconvert_exporter": "python",
   "pygments_lexer": "ipython3",
   "version": "3.7.5"
  }
 },
 "nbformat": 4,
 "nbformat_minor": 2
}
